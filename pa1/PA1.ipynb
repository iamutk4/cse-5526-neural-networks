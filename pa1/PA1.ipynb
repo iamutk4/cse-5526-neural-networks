{
 "cells": [
  {
   "cell_type": "markdown",
   "id": "d866cb6b",
   "metadata": {},
   "source": [
    "# CSE 5526 PA1 Utkarsh Pratap Singh Jadon"
   ]
  },
  {
   "cell_type": "markdown",
   "id": "75f86621",
   "metadata": {},
   "source": [
    "## Question 1"
   ]
  },
  {
   "cell_type": "markdown",
   "id": "1e2c01a1",
   "metadata": {},
   "source": [
    "### Import necessary libraries"
   ]
  },
  {
   "cell_type": "code",
   "execution_count": 1,
   "id": "db80f071",
   "metadata": {},
   "outputs": [],
   "source": [
    "import numpy as np\n",
    "import matplotlib.pyplot as plt"
   ]
  },
  {
   "cell_type": "markdown",
   "id": "7ebba853",
   "metadata": {},
   "source": [
    "### Create a sigmoid activation function"
   ]
  },
  {
   "cell_type": "code",
   "execution_count": 2,
   "id": "a38717c2",
   "metadata": {},
   "outputs": [],
   "source": [
    "def activationFunction(z):\n",
    "    return 1/(1 + np.exp(-z))"
   ]
  },
  {
   "cell_type": "markdown",
   "id": "a86dba0c",
   "metadata": {},
   "source": [
    "### Create a function to train a model without momentum"
   ]
  },
  {
   "cell_type": "code",
   "execution_count": 3,
   "id": "632a9398",
   "metadata": {},
   "outputs": [],
   "source": [
    "def train(eta):\n",
    "    \n",
    "    # Defining input and desired output bits\n",
    "    np.random.seed(96)\n",
    "    inputBits = np.array([[0,0,0,0],[0,0,0,1],[0,0,1,0],[0,0,1,1],[0,1,0,0],[0,1,0,1],[0,1,1,0],[0,1,1,1],[1,0,0,0],[1,0,0,1],[1,0,1,0],[1,0,1,1],[1,1,0,0],[1,1,0,1],[1,1,1,0],[1,1,1,1]])\n",
    "    y = np.array([[0],[1],[1],[0],[1],[0],[0],[1],[1],[0],[0],[1],[0],[1],[1],[0]])\n",
    "    \n",
    "    # Initializing weights and bias for hidden layer\n",
    "    wh = np.random.uniform(-1,1,(4,4))\n",
    "    bh = np.random.uniform(-1,1,(4,1))\n",
    "    \n",
    "    # Initializing weights and bias for output layer\n",
    "    wo = np.random.uniform(-1,1,(1,4))\n",
    "    bo = np.random.uniform(-1,1,(1,1))\n",
    "    \n",
    "    # Initializaing gradients\n",
    "    dj_dwh = np.array((4,4))\n",
    "    dj_dbh = np.array((4,1))\n",
    "    dj_dwo = np.array((1,4))\n",
    "    dj_dbo = np.array((1,1))\n",
    "    \n",
    "    meanSquaredError = []\n",
    "    absoluteError = []\n",
    "    epoch = 0\n",
    "    print(\"Eta = \", eta)\n",
    "    \n",
    "    while True:\n",
    "        difference = []\n",
    "        squaredError = []\n",
    "        for i in range(inputBits.shape[0]):\n",
    "            x = np.reshape(inputBits[i,],(4,1))\n",
    "            d = y[i]\n",
    "            \n",
    "            # Forward Propogation\n",
    "            zh = wh.dot(x) + bh\n",
    "            ah = activationFunction(zh)\n",
    "            zo = wo.dot(ah) + bo\n",
    "            ao = activationFunction(zo)\n",
    "            \n",
    "            error1 = d - ao\n",
    "            error2 = (1/2)*(error1**2)\n",
    "            \n",
    "            # Partial derivative of cost with respect to output and hidden layer activation potential\n",
    "            dj_dzo = -(error1)*(ao)*(1 - ao)\n",
    "            dj_dzh = (wo.T)*(dj_dzo)*(ah)*(1 - ah)\n",
    "            \n",
    "            # Partial derivative of cost with respect to output layer weights and biases\n",
    "            dj_dwo = dj_dzo.dot(ah.T)\n",
    "            dj_dbo = dj_dzo\n",
    "            \n",
    "            # Partial derivative of cost with respect to hidden layer weights and biases\n",
    "            dj_dwh = dj_dzh.dot(x.T)\n",
    "            dj_dbh = dj_dzh\n",
    "            \n",
    "            # Applying gradient descent to output layer weights and biases\n",
    "            wo = wo - ((eta)*(dj_dwo))\n",
    "            bo = bo - ((eta)*(dj_dbo))\n",
    "            \n",
    "            # Applying gradient descent to hidden layer weights and biases\n",
    "            wh = wh - ((eta)*(dj_dwh))\n",
    "            bh = bh - ((eta)*(dj_dbh))\n",
    "            \n",
    "            # Storing difference and squared error values for each input pattern\n",
    "            difference.append(error1[0,0])\n",
    "            squaredError.append(error2[0,0])\n",
    "            \n",
    "        epoch += 1\n",
    "        \n",
    "        # Storing mean difference (absolute) and mean squared error values for each epoch\n",
    "        absoluteError.append(sum(np.abs(difference)/16))\n",
    "        meanSquaredError.append(sum(squaredError)/16)\n",
    "        \n",
    "        # Check if absolute error (difference) for each input bit pattern is less than 0.05 or not\n",
    "        maxError = np.max(np.abs(difference))\n",
    "        if maxError<=0.05:\n",
    "            break\n",
    "            \n",
    "    print(\"Number of Epochs: \", epoch)\n",
    "    print(\"Error: \", maxError, '\\n')\n",
    "    \n",
    "    return epoch, meanSquaredError, absoluteError\n",
    "    "
   ]
  },
  {
   "cell_type": "markdown",
   "id": "174d76c8",
   "metadata": {},
   "source": [
    "### Define the learning rates and call the train function"
   ]
  },
  {
   "cell_type": "code",
   "execution_count": 4,
   "id": "9e7bd405",
   "metadata": {},
   "outputs": [
    {
     "name": "stdout",
     "output_type": "stream",
     "text": [
      "Eta =  0.05\n",
      "Number of Epochs:  2001559\n",
      "Error:  0.049999942424458266 \n",
      "\n",
      "Eta =  0.1\n",
      "Number of Epochs:  923368\n",
      "Error:  0.04999979187945003 \n",
      "\n",
      "Eta =  0.15000000000000002\n",
      "Number of Epochs:  878509\n",
      "Error:  0.04999962862334095 \n",
      "\n",
      "Eta =  0.2\n",
      "Number of Epochs:  868440\n",
      "Error:  0.049999727294656404 \n",
      "\n",
      "Eta =  0.25\n",
      "Number of Epochs:  776998\n",
      "Error:  0.049999715456975236 \n",
      "\n",
      "Eta =  0.3\n",
      "Number of Epochs:  11616\n",
      "Error:  0.04999598205870437 \n",
      "\n",
      "Eta =  0.35000000000000003\n",
      "Number of Epochs:  238892\n",
      "Error:  0.04999899369186473 \n",
      "\n",
      "Eta =  0.4\n",
      "Number of Epochs:  48651\n",
      "Error:  0.04999528534963253 \n",
      "\n",
      "Eta =  0.45\n",
      "Number of Epochs:  66910\n",
      "Error:  0.04999713513352861 \n",
      "\n",
      "Eta =  0.5\n",
      "Number of Epochs:  67156\n",
      "Error:  0.04999911875869641 \n",
      "\n"
     ]
    }
   ],
   "source": [
    "etas = np.arange(0.05,0.55,0.05)\n",
    "epochs = []\n",
    "mseError = []\n",
    "absError = []\n",
    "\n",
    "for n in etas:\n",
    "    (a, b, c) = train(n)\n",
    "    epochs.append(a)\n",
    "    mseError.append(b)\n",
    "    absError.append(c)"
   ]
  },
  {
   "cell_type": "markdown",
   "id": "a44d87a7",
   "metadata": {},
   "source": [
    "### Plot graphs"
   ]
  },
  {
   "cell_type": "code",
   "execution_count": 5,
   "id": "4273f425",
   "metadata": {},
   "outputs": [
    {
     "data": {
      "image/png": "[encoded data removed]",
      "text/plain": [
       "<Figure size 432x288 with 1 Axes>"
      ]
     },
     "metadata": {
      "needs_background": "light"
     },
     "output_type": "display_data"
    },
    {
     "data": {
      "image/png": "[encoded data removed]",
      "text/plain": [
       "<Figure size 432x288 with 1 Axes>"
      ]
     },
     "metadata": {
      "needs_background": "light"
     },
     "output_type": "display_data"
    },
    {
     "data": {
      "image/png": "[encoded data removed]",
      "text/plain": [
       "<Figure size 432x288 with 1 Axes>"
      ]
     },
     "metadata": {
      "needs_background": "light"
     },
     "output_type": "display_data"
    }
   ],
   "source": [
    "# Plot 1: Eta vs Epochs\n",
    "plt.figure(1)\n",
    "plt.plot(etas,epochs)\n",
    "plt.title('Eta vs Epoch')\n",
    "plt.xlabel('Eta')\n",
    "plt.ylabel('Epochs')\n",
    "\n",
    "# Plot 2: Eta vs Mean Squared Error\n",
    "plt.figure(2)\n",
    "sumMseError = [sum(item) for item in mseError]\n",
    "plt.plot(etas,sumMseError,'r-')\n",
    "plt.title('Eta vs MSE')\n",
    "plt.xlabel('Eta')\n",
    "plt.ylabel('MSE')\n",
    "\n",
    "# Plot 3: Eta vs Absolute Error\n",
    "plt.figure(3)\n",
    "sumAbsError = [sum(item) for item in absError]\n",
    "plt.plot(etas,sumAbsError,'g-')\n",
    "plt.title('Eta vs Abs Error')\n",
    "plt.xlabel('Eta')\n",
    "plt.ylabel('Abs Error')\n",
    "\n",
    "plt.show()"
   ]
  },
  {
   "cell_type": "markdown",
   "id": "e94bde90",
   "metadata": {},
   "source": [
    "### Create a function to train a model with momentum"
   ]
  },
  {
   "cell_type": "code",
   "execution_count": 3,
   "id": "324f4711",
   "metadata": {},
   "outputs": [],
   "source": [
    "def trainWithMomentum(eta):\n",
    "    \n",
    "    # Defining input and desired output bits\n",
    "    np.random.seed(96)\n",
    "    inputBits = np.array([[0,0,0,0],[0,0,0,1],[0,0,1,0],[0,0,1,1],[0,1,0,0],[0,1,0,1],[0,1,1,0],[0,1,1,1],[1,0,0,0],[1,0,0,1],[1,0,1,0],[1,0,1,1],[1,1,0,0],[1,1,0,1],[1,1,1,0],[1,1,1,1]])\n",
    "    y = np.array([[0],[1],[1],[0],[1],[0],[0],[1],[1],[0],[0],[1],[0],[1],[1],[0]])\n",
    "    \n",
    "    # Initializing weights and bias for hidden layer\n",
    "    wh = np.random.uniform(-1,1,(4,4))\n",
    "    bh = np.random.uniform(-1,1,(4,1))\n",
    "    \n",
    "    # Initializing weights and bias for output layer\n",
    "    wo = np.random.uniform(-1,1,(1,4))\n",
    "    bo = np.random.uniform(-1,1,(1,1))\n",
    "    \n",
    "    # Initializaing gradients\n",
    "    dj_dwh = np.array((4,4))\n",
    "    dj_dbh = np.array((4,1))\n",
    "    dj_dwo = np.array((1,4))\n",
    "    dj_dbo = np.array((1,1))\n",
    "    \n",
    "    # Initializing momentum\n",
    "    dj_dwh_previous = 0\n",
    "    dj_dbh_previous = 0\n",
    "    dj_dwo_previous = 0\n",
    "    dj_dbo_previous = 0\n",
    "    \n",
    "    meanSquaredError = []\n",
    "    absoluteError = []\n",
    "    epoch = 0\n",
    "    print(\"Eta = \", eta)\n",
    "    \n",
    "    while True:\n",
    "        difference = []\n",
    "        squaredError = []\n",
    "        for i in range(inputBits.shape[0]):\n",
    "            x = np.reshape(inputBits[i,],(4,1))\n",
    "            d = y[i]\n",
    "            \n",
    "            # Forward Propogation\n",
    "            zh = wh.dot(x) + bh\n",
    "            ah = activationFunction(zh)\n",
    "            zo = wo.dot(ah) + bo\n",
    "            ao = activationFunction(zo)\n",
    "            \n",
    "            error1 = d - ao\n",
    "            error2 = (1/2)*(error1**2)\n",
    "            \n",
    "            # Partial derivative of cost with respect to output and hidden layer activation potential\n",
    "            dj_dzo = -(error1)*(ao)*(1 - ao)\n",
    "            dj_dzh = (wo.T)*(dj_dzo)*(ah)*(1 - ah)\n",
    "            \n",
    "            # Partial derivative of cost with respect to output layer weights and biases\n",
    "            dj_dwo = (eta * dj_dzo.dot(ah.T)) + (0.9 * dj_dwo_previous)\n",
    "            dj_dbo = (eta * dj_dzo) + (0.9 * dj_dbo_previous)\n",
    "            \n",
    "            # Partial derivative of cost with respect to hidden layer weights and biases\n",
    "            dj_dwh = (eta * dj_dzh.dot(x.T)) + (0.9 * dj_dwh_previous)\n",
    "            dj_dbh = (eta * dj_dzh) + (0.9 * dj_dbh_previous)\n",
    "            \n",
    "            # Applying gradient descent to output layer weights and biases\n",
    "            wo = wo - (dj_dwo)\n",
    "            bo = bo - (dj_dbo)\n",
    "            \n",
    "            # Applying gradient descent to hidden layer weights and biases\n",
    "            wh = wh - (dj_dwh)\n",
    "            bh = bh - (dj_dbh)\n",
    "            \n",
    "            dj_dwh_previous = dj_dwh\n",
    "            dj_dbh_previous = dj_dbh\n",
    "            dj_dwo_previous = dj_dwo\n",
    "            dj_dbo_previous = dj_dbo\n",
    "            \n",
    "            # Storing difference and squared error values for each input pattern\n",
    "            difference.append(error1[0,0])\n",
    "            squaredError.append(error2[0,0])\n",
    "            \n",
    "        epoch += 1\n",
    "        \n",
    "        # Storing mean difference (absolute) and mean squared error values for each epoch\n",
    "        absoluteError.append(sum(np.abs(difference)/16))\n",
    "        meanSquaredError.append(sum(squaredError)/16)\n",
    "        \n",
    "        # Check if absolute error (difference) for each input bit pattern is less than 0.05 or not\n",
    "        maxError = np.max(np.abs(difference))\n",
    "        if maxError<=0.05:\n",
    "            break\n",
    "            \n",
    "    print(\"Number of Epochs: \", epoch)\n",
    "    print(\"Error: \", maxError, '\\n')\n",
    "    \n",
    "    return epoch, meanSquaredError, absoluteError\n",
    "    "
   ]
  },
  {
   "cell_type": "markdown",
   "id": "a94ede41",
   "metadata": {},
   "source": [
    "### Define the learning rates and call the trainWithMomentum function"
   ]
  },
  {
   "cell_type": "code",
   "execution_count": 4,
   "id": "2018b4db",
   "metadata": {},
   "outputs": [
    {
     "name": "stdout",
     "output_type": "stream",
     "text": [
      "Eta =  0.05\n",
      "Number of Epochs:  171064\n",
      "Error:  0.04999882958124158 \n",
      "\n",
      "Eta =  0.1\n",
      "Number of Epochs:  88894\n",
      "Error:  0.04999879282632913 \n",
      "\n",
      "Eta =  0.15000000000000002\n",
      "Number of Epochs:  91821\n",
      "Error:  0.049996900641995135 \n",
      "\n",
      "Eta =  0.2\n",
      "Number of Epochs:  1866\n",
      "Error:  0.04996549050880528 \n",
      "\n",
      "Eta =  0.25\n",
      "Number of Epochs:  41264\n",
      "Error:  0.04999395777314381 \n",
      "\n",
      "Eta =  0.3\n",
      "Number of Epochs:  11907\n",
      "Error:  0.049990326067604805 \n",
      "\n",
      "Eta =  0.35000000000000003\n",
      "Number of Epochs:  10291\n",
      "Error:  0.049988518617884316 \n",
      "\n",
      "Eta =  0.4\n",
      "Number of Epochs:  1367630\n",
      "Error:  0.04999117479646756 \n",
      "\n",
      "Eta =  0.45\n",
      "Number of Epochs:  3379\n",
      "Error:  0.04996206404193897 \n",
      "\n",
      "Eta =  0.5\n",
      "Number of Epochs:  46831\n",
      "Error:  0.04999264310238078 \n",
      "\n"
     ]
    }
   ],
   "source": [
    "etas = np.arange(0.05,0.55,0.05)\n",
    "epochs = []\n",
    "mseError = []\n",
    "absError = []\n",
    "\n",
    "for n in etas:\n",
    "    (a, b, c) = trainWithMomentum(n)\n",
    "    epochs.append(a)\n",
    "    mseError.append(b)\n",
    "    absError.append(c)"
   ]
  },
  {
   "cell_type": "markdown",
   "id": "a9373e1d",
   "metadata": {},
   "source": [
    "### Plot graphs"
   ]
  },
  {
   "cell_type": "code",
   "execution_count": 5,
   "id": "350fe12e",
   "metadata": {},
   "outputs": [
    {
     "data": {
      "image/png": "[encoded data removed]",
      "text/plain": [
       "<Figure size 432x288 with 1 Axes>"
      ]
     },
     "metadata": {
      "needs_background": "light"
     },
     "output_type": "display_data"
    },
    {
     "data": {
      "image/png": "[encoded data removed]",
      "text/plain": [
       "<Figure size 432x288 with 1 Axes>"
      ]
     },
     "metadata": {
      "needs_background": "light"
     },
     "output_type": "display_data"
    },
    {
     "data": {
      "image/png": "[encoded data removed]",
      "text/plain": [
       "<Figure size 432x288 with 1 Axes>"
      ]
     },
     "metadata": {
      "needs_background": "light"
     },
     "output_type": "display_data"
    }
   ],
   "source": [
    "# Plot 1: Eta vs Epochs\n",
    "plt.figure(1)\n",
    "plt.plot(etas,epochs)\n",
    "plt.title('Eta vs Epoch')\n",
    "plt.xlabel('Eta')\n",
    "plt.ylabel('Epochs')\n",
    "\n",
    "# Plot 2: Eta vs Mean Squared Error\n",
    "plt.figure(2)\n",
    "sumMseError = [sum(item) for item in mseError]\n",
    "plt.plot(etas,sumMseError,'r-')\n",
    "plt.title('Eta vs MSE')\n",
    "plt.xlabel('Eta')\n",
    "plt.ylabel('MSE')\n",
    "\n",
    "# Plot 3: Eta vs Absolute Error\n",
    "plt.figure(3)\n",
    "sumAbsError = [sum(item) for item in absError]\n",
    "plt.plot(etas,sumAbsError,'g-')\n",
    "plt.title('Eta vs Abs Error')\n",
    "plt.xlabel('Eta')\n",
    "plt.ylabel('Abs Error')\n",
    "\n",
    "plt.show()"
   ]
  },
  {
   "cell_type": "code",
   "execution_count": null,
   "id": "651745ee",
   "metadata": {},
   "outputs": [],
   "source": []
  }
 ],
 "metadata": {
  "kernelspec": {
   "display_name": "Python 3 (ipykernel)",
   "language": "python",
   "name": "python3"
  },
  "language_info": {
   "codemirror_mode": {
    "name": "ipython",
    "version": 3
   },
   "file_extension": ".py",
   "mimetype": "text/x-python",
   "name": "python",
   "nbconvert_exporter": "python",
   "pygments_lexer": "ipython3",
   "version": "3.9.12"
  }
 },
 "nbformat": 4,
 "nbformat_minor": 5
}
