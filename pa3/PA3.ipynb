{
 "cells": [
  {
   "cell_type": "markdown",
   "id": "158b11ac",
   "metadata": {},
   "source": [
    "# CSE 5526 PA3 Utkarsh Pratap Singh Jadon"
   ]
  },
  {
   "cell_type": "markdown",
   "id": "bddb5deb",
   "metadata": {},
   "source": [
    "## Question 1"
   ]
  },
  {
   "cell_type": "markdown",
   "id": "ba6c1217",
   "metadata": {},
   "source": [
    "### Import necessary libraries"
   ]
  },
  {
   "cell_type": "code",
   "execution_count": 1,
   "id": "09824bf4",
   "metadata": {},
   "outputs": [],
   "source": [
    "import pandas as pd\n",
    "import numpy as np\n",
    "from sklearn.svm import SVC\n",
    "from sklearn.pipeline import Pipeline\n",
    "from sklearn.preprocessing import StandardScaler\n",
    "import matplotlib.pyplot as plt\n",
    "from sklearn.model_selection import KFold\n",
    "from sklearn.model_selection import cross_val_score"
   ]
  },
  {
   "cell_type": "markdown",
   "id": "51ca4b39",
   "metadata": {},
   "source": [
    "### Load train data and create dataframe object"
   ]
  },
  {
   "cell_type": "code",
   "execution_count": 2,
   "id": "58ca02f9",
   "metadata": {},
   "outputs": [
    {
     "data": {
      "text/html": [
       "<div>\n",
       "<style scoped>\n",
       "    .dataframe tbody tr th:only-of-type {\n",
       "        vertical-align: middle;\n",
       "    }\n",
       "\n",
       "    .dataframe tbody tr th {\n",
       "        vertical-align: top;\n",
       "    }\n",
       "\n",
       "    .dataframe thead th {\n",
       "        text-align: right;\n",
       "    }\n",
       "</style>\n",
       "<table border=\"1\" class=\"dataframe\">\n",
       "  <thead>\n",
       "    <tr style=\"text-align: right;\">\n",
       "      <th></th>\n",
       "      <th>1</th>\n",
       "      <th>2</th>\n",
       "      <th>3</th>\n",
       "      <th>4</th>\n",
       "      <th>5</th>\n",
       "      <th>6</th>\n",
       "      <th>7</th>\n",
       "      <th>8</th>\n",
       "    </tr>\n",
       "  </thead>\n",
       "  <tbody>\n",
       "    <tr>\n",
       "      <th>0</th>\n",
       "      <td>0.73834</td>\n",
       "      <td>0.0878964</td>\n",
       "      <td>0.812912</td>\n",
       "      <td>0.829121</td>\n",
       "      <td>0.197331</td>\n",
       "      <td>0.263444</td>\n",
       "      <td>0.449439</td>\n",
       "      <td>0.628271</td>\n",
       "    </tr>\n",
       "    <tr>\n",
       "      <th>1</th>\n",
       "      <td>0.822021</td>\n",
       "      <td>0.882066</td>\n",
       "      <td>0.289181</td>\n",
       "      <td>0.414854</td>\n",
       "      <td>0.717044</td>\n",
       "      <td>0.283122</td>\n",
       "      <td>0.251447</td>\n",
       "      <td>0.755608</td>\n",
       "    </tr>\n",
       "    <tr>\n",
       "      <th>2</th>\n",
       "      <td>0.644661</td>\n",
       "      <td>0.109192</td>\n",
       "      <td>0.797813</td>\n",
       "      <td>0.768969</td>\n",
       "      <td>0.0885151</td>\n",
       "      <td>0.168189</td>\n",
       "      <td>0.329582</td>\n",
       "      <td>0.780204</td>\n",
       "    </tr>\n",
       "    <tr>\n",
       "      <th>3</th>\n",
       "      <td>0.833966</td>\n",
       "      <td>0.895573</td>\n",
       "      <td>0.259839</td>\n",
       "      <td>0.276828</td>\n",
       "      <td>0.755717</td>\n",
       "      <td>0.366283</td>\n",
       "      <td>0.353483</td>\n",
       "      <td>0.677109</td>\n",
       "    </tr>\n",
       "    <tr>\n",
       "      <th>4</th>\n",
       "      <td>0.826579</td>\n",
       "      <td>0.784457</td>\n",
       "      <td>0.298902</td>\n",
       "      <td>0.37957</td>\n",
       "      <td>0.636372</td>\n",
       "      <td>0.348631</td>\n",
       "      <td>0.359892</td>\n",
       "      <td>0.623756</td>\n",
       "    </tr>\n",
       "  </tbody>\n",
       "</table>\n",
       "</div>"
      ],
      "text/plain": [
       "          1          2         3         4          5         6         7  \\\n",
       "0   0.73834  0.0878964  0.812912  0.829121   0.197331  0.263444  0.449439   \n",
       "1  0.822021   0.882066  0.289181  0.414854   0.717044  0.283122  0.251447   \n",
       "2  0.644661   0.109192  0.797813  0.768969  0.0885151  0.168189  0.329582   \n",
       "3  0.833966   0.895573  0.259839  0.276828   0.755717  0.366283  0.353483   \n",
       "4  0.826579   0.784457  0.298902   0.37957   0.636372  0.348631  0.359892   \n",
       "\n",
       "          8  \n",
       "0  0.628271  \n",
       "1  0.755608  \n",
       "2  0.780204  \n",
       "3  0.677109  \n",
       "4  0.623756  "
      ]
     },
     "execution_count": 2,
     "metadata": {},
     "output_type": "execute_result"
    }
   ],
   "source": [
    "# Load and store training data in lists\n",
    "\n",
    "XTrainData =[]\n",
    "YTrainData =[]\n",
    "with open('ncRNA_s.train.txt','r') as file:\n",
    "  for l in file:\n",
    "    temp_dict = {}\n",
    "    tmp = l.strip(\"\\n\").split(\" \")\n",
    "    YTrainData.append(int(tmp[0]))\n",
    "    for value in tmp[1:]:\n",
    "      index, value = value.split(':')\n",
    "      temp_dict[index] = value\n",
    "    XTrainData.append(temp_dict)\n",
    "\n",
    "# Create dataframe object for training data\n",
    "\n",
    "dfXTrain = pd.DataFrame.from_dict(XTrainData)\n",
    "dfXTrain.head()"
   ]
  },
  {
   "cell_type": "code",
   "execution_count": 3,
   "id": "2ec221f9",
   "metadata": {},
   "outputs": [
    {
     "name": "stdout",
     "output_type": "stream",
     "text": [
      "(2000, 8)\n"
     ]
    }
   ],
   "source": [
    "print(dfXTrain.shape)\n",
    "dfXTrain.fillna(0,inplace =True)"
   ]
  },
  {
   "cell_type": "markdown",
   "id": "d466cee3",
   "metadata": {},
   "source": [
    "### Load test data and create dataframe object"
   ]
  },
  {
   "cell_type": "code",
   "execution_count": 4,
   "id": "7fe51b1e",
   "metadata": {},
   "outputs": [
    {
     "data": {
      "text/html": [
       "<div>\n",
       "<style scoped>\n",
       "    .dataframe tbody tr th:only-of-type {\n",
       "        vertical-align: middle;\n",
       "    }\n",
       "\n",
       "    .dataframe tbody tr th {\n",
       "        vertical-align: top;\n",
       "    }\n",
       "\n",
       "    .dataframe thead th {\n",
       "        text-align: right;\n",
       "    }\n",
       "</style>\n",
       "<table border=\"1\" class=\"dataframe\">\n",
       "  <thead>\n",
       "    <tr style=\"text-align: right;\">\n",
       "      <th></th>\n",
       "      <th>1</th>\n",
       "      <th>2</th>\n",
       "      <th>3</th>\n",
       "      <th>4</th>\n",
       "      <th>5</th>\n",
       "      <th>6</th>\n",
       "      <th>7</th>\n",
       "      <th>8</th>\n",
       "    </tr>\n",
       "  </thead>\n",
       "  <tbody>\n",
       "    <tr>\n",
       "      <th>0</th>\n",
       "      <td>0.82344</td>\n",
       "      <td>0.151015</td>\n",
       "      <td>0.371463</td>\n",
       "      <td>0.739179</td>\n",
       "      <td>0.521662</td>\n",
       "      <td>0.181503</td>\n",
       "      <td>0.304412</td>\n",
       "      <td>0.664263</td>\n",
       "    </tr>\n",
       "    <tr>\n",
       "      <th>1</th>\n",
       "      <td>0.862775</td>\n",
       "      <td>0.908975</td>\n",
       "      <td>0.4566</td>\n",
       "      <td>0.43232</td>\n",
       "      <td>0.595425</td>\n",
       "      <td>0.225958</td>\n",
       "      <td>0.268704</td>\n",
       "      <td>0.738061</td>\n",
       "    </tr>\n",
       "    <tr>\n",
       "      <th>2</th>\n",
       "      <td>0.80697</td>\n",
       "      <td>0.151015</td>\n",
       "      <td>0.117076</td>\n",
       "      <td>0.35063</td>\n",
       "      <td>0.669115</td>\n",
       "      <td>0.375613</td>\n",
       "      <td>0.0874905</td>\n",
       "      <td>0.774586</td>\n",
       "    </tr>\n",
       "    <tr>\n",
       "      <th>3</th>\n",
       "      <td>0.8391</td>\n",
       "      <td>0.895573</td>\n",
       "      <td>0.110854</td>\n",
       "      <td>0.724869</td>\n",
       "      <td>0.454829</td>\n",
       "      <td>0.254314</td>\n",
       "      <td>0.302913</td>\n",
       "      <td>0.716048</td>\n",
       "    </tr>\n",
       "    <tr>\n",
       "      <th>4</th>\n",
       "      <td>0.834618</td>\n",
       "      <td>0.882066</td>\n",
       "      <td>0.287209</td>\n",
       "      <td>0.282103</td>\n",
       "      <td>0.764761</td>\n",
       "      <td>0.319583</td>\n",
       "      <td>0.381718</td>\n",
       "      <td>0.677109</td>\n",
       "    </tr>\n",
       "  </tbody>\n",
       "</table>\n",
       "</div>"
      ],
      "text/plain": [
       "          1         2         3         4         5         6          7  \\\n",
       "0   0.82344  0.151015  0.371463  0.739179  0.521662  0.181503   0.304412   \n",
       "1  0.862775  0.908975    0.4566   0.43232  0.595425  0.225958   0.268704   \n",
       "2   0.80697  0.151015  0.117076   0.35063  0.669115  0.375613  0.0874905   \n",
       "3    0.8391  0.895573  0.110854  0.724869  0.454829  0.254314   0.302913   \n",
       "4  0.834618  0.882066  0.287209  0.282103  0.764761  0.319583   0.381718   \n",
       "\n",
       "          8  \n",
       "0  0.664263  \n",
       "1  0.738061  \n",
       "2  0.774586  \n",
       "3  0.716048  \n",
       "4  0.677109  "
      ]
     },
     "execution_count": 4,
     "metadata": {},
     "output_type": "execute_result"
    }
   ],
   "source": [
    "# Load and store test data in lists\n",
    "\n",
    "XTestData =[]\n",
    "YTestData =[]\n",
    "\n",
    "with open('ncRNA_s.test.txt','r') as file:\n",
    "  for l in file:\n",
    "    temp_dict = {}\n",
    "    tmp = (l.strip(\"\\n\").split(\" \"))\n",
    "    YTestData.append(int(tmp[0]))\n",
    "    for value in tmp[1:]:\n",
    "      index, value = value.split(':')\n",
    "      temp_dict[index] = value\n",
    "    XTestData.append(temp_dict)\n",
    "\n",
    "# Create dataframe object for test data    \n",
    "\n",
    "dfXTest = pd.DataFrame.from_dict(XTestData)\n",
    "dfXTest.head()"
   ]
  },
  {
   "cell_type": "code",
   "execution_count": 5,
   "id": "61082ca7",
   "metadata": {},
   "outputs": [],
   "source": [
    "dfXTest.shape\n",
    "dfXTest.fillna(0,inplace =True)"
   ]
  },
  {
   "cell_type": "markdown",
   "id": "5311456e",
   "metadata": {},
   "source": [
    "### Convert dataframes to numpy arrays"
   ]
  },
  {
   "cell_type": "code",
   "execution_count": 6,
   "id": "87616480",
   "metadata": {},
   "outputs": [],
   "source": [
    "# Training data numpy\n",
    "Xtr = dfXTrain.to_numpy()\n",
    "Ytr = np.array(YTrainData)\n",
    "\n",
    "\n",
    "# Test data numpy\n",
    "Xts = dfXTest.to_numpy()\n",
    "Yts = np.array(YTestData)"
   ]
  },
  {
   "cell_type": "markdown",
   "id": "f5f0e4e1",
   "metadata": {},
   "source": [
    "### Part 1 - Classification using linear SVMs"
   ]
  },
  {
   "cell_type": "code",
   "execution_count": 7,
   "id": "d6a2c4e5",
   "metadata": {},
   "outputs": [
    {
     "name": "stdout",
     "output_type": "stream",
     "text": [
      "Test data accuracy for C = 0.0625 is : 0.6643356643356644 \n",
      "Test data accuracy for C = 0.125 is : 0.6643356643356644 \n",
      "Test data accuracy for C = 0.25 is : 0.6643356643356644 \n",
      "Test data accuracy for C = 0.5 is : 0.7782217782217782 \n",
      "Test data accuracy for C = 1 is : 0.9250749250749251 \n",
      "Test data accuracy for C = 2 is : 0.9400599400599401 \n",
      "Test data accuracy for C = 4 is : 0.9370629370629371 \n",
      "Test data accuracy for C = 8 is : 0.9370629370629371 \n",
      "Test data accuracy for C = 16 is : 0.938061938061938 \n",
      "Test data accuracy for C = 32 is : 0.938061938061938 \n",
      "Test data accuracy for C = 64 is : 0.938061938061938 \n",
      "Test data accuracy for C = 128 is : 0.938061938061938 \n",
      "Test data accuracy for C = 256 is : 0.938061938061938 \n"
     ]
    }
   ],
   "source": [
    "power_values = np.arange(-4, 9, 1, dtype = 'float')\n",
    "C_values = [2**i for i in range(-4,9)]\n",
    "accuracy = []\n",
    "\n",
    "for C in C_values:\n",
    "    clf = SVC(kernel = 'linear', C = C)\n",
    "    clf.fit(Xtr,Ytr)\n",
    "    predict = clf.score(Xts,Yts)\n",
    "    accuracy.append(predict)\n",
    "    print('Test data accuracy for C = {} is : {} '.format(C,predict))"
   ]
  },
  {
   "cell_type": "code",
   "execution_count": 8,
   "id": "bec4777c",
   "metadata": {},
   "outputs": [
    {
     "data": {
      "image/png": "[encoded data removed]",
      "text/plain": [
       "<Figure size 432x288 with 1 Axes>"
      ]
     },
     "metadata": {
      "needs_background": "light"
     },
     "output_type": "display_data"
    }
   ],
   "source": [
    "plt.plot(power_values,accuracy,'--o')\n",
    "plt.xlabel('$log_2 ~ C$')\n",
    "plt.ylabel('Classification Accuracy')\n",
    "plt.show()"
   ]
  },
  {
   "cell_type": "markdown",
   "id": "ffa49be5",
   "metadata": {},
   "source": [
    "### Part 2 - Classification using RBF kernel SVM"
   ]
  },
  {
   "cell_type": "markdown",
   "id": "449ed39e",
   "metadata": {},
   "source": [
    "#### (a) 5-fold cross validation"
   ]
  },
  {
   "cell_type": "code",
   "execution_count": 9,
   "id": "d06e29d2",
   "metadata": {},
   "outputs": [
    {
     "name": "stdout",
     "output_type": "stream",
     "text": [
      "(1000, 8)\n",
      "(1000,)\n"
     ]
    }
   ],
   "source": [
    "# Randomly choosing 50% (i.e., 1000 instances) of training data as cross validation set\n",
    "\n",
    "np.random.seed(69)\n",
    "instances = np.random.permutation(len(XTrainData))[:1000]\n",
    "Xtr_instances = dfXTrain.iloc[instances].to_numpy()\n",
    "Ytr_instances = np.array(YTrainData)[instances.astype(int)]\n",
    "print(Xtr_instances.shape)\n",
    "print(Ytr_instances.shape)"
   ]
  },
  {
   "cell_type": "code",
   "execution_count": 10,
   "id": "9348fec3",
   "metadata": {},
   "outputs": [],
   "source": [
    "# Manual implementation of Kfold\n",
    "C_values = [2**i for i in range(-4,9)]\n",
    "gamma_values = [2**i for i in range(-4,9)]\n",
    "\n",
    "import itertools\n",
    "comb = []\n",
    "for i in itertools.product(C_values, gamma_values):\n",
    "  comb.append(i)"
   ]
  },
  {
   "cell_type": "code",
   "execution_count": 11,
   "id": "a36ad546",
   "metadata": {},
   "outputs": [
    {
     "name": "stdout",
     "output_type": "stream",
     "text": [
      "Mean Classification Accuracy for C = 0.0625 and gamma = 0.0625 is : 0.66\n",
      "Mean Classification Accuracy for C = 0.0625 and gamma = 0.125 is : 0.66\n",
      "Mean Classification Accuracy for C = 0.0625 and gamma = 0.25 is : 0.66\n",
      "Mean Classification Accuracy for C = 0.0625 and gamma = 0.5 is : 0.66\n",
      "Mean Classification Accuracy for C = 0.0625 and gamma = 1 is : 0.66\n",
      "Mean Classification Accuracy for C = 0.0625 and gamma = 2 is : 0.66\n",
      "Mean Classification Accuracy for C = 0.0625 and gamma = 4 is : 0.66\n",
      "Mean Classification Accuracy for C = 0.0625 and gamma = 8 is : 0.66\n",
      "Mean Classification Accuracy for C = 0.0625 and gamma = 16 is : 0.66\n",
      "Mean Classification Accuracy for C = 0.0625 and gamma = 32 is : 0.66\n",
      "Mean Classification Accuracy for C = 0.0625 and gamma = 64 is : 0.66\n",
      "Mean Classification Accuracy for C = 0.0625 and gamma = 128 is : 0.66\n",
      "Mean Classification Accuracy for C = 0.0625 and gamma = 256 is : 0.66\n",
      "Mean Classification Accuracy for C = 0.125 and gamma = 0.0625 is : 0.66\n",
      "Mean Classification Accuracy for C = 0.125 and gamma = 0.125 is : 0.66\n",
      "Mean Classification Accuracy for C = 0.125 and gamma = 0.25 is : 0.66\n",
      "Mean Classification Accuracy for C = 0.125 and gamma = 0.5 is : 0.66\n",
      "Mean Classification Accuracy for C = 0.125 and gamma = 1 is : 0.66\n",
      "Mean Classification Accuracy for C = 0.125 and gamma = 2 is : 0.66\n",
      "Mean Classification Accuracy for C = 0.125 and gamma = 4 is : 0.66\n",
      "Mean Classification Accuracy for C = 0.125 and gamma = 8 is : 0.66\n",
      "Mean Classification Accuracy for C = 0.125 and gamma = 16 is : 0.6759999999999999\n",
      "Mean Classification Accuracy for C = 0.125 and gamma = 32 is : 0.6910000000000001\n",
      "Mean Classification Accuracy for C = 0.125 and gamma = 64 is : 0.68\n",
      "Mean Classification Accuracy for C = 0.125 and gamma = 128 is : 0.66\n",
      "Mean Classification Accuracy for C = 0.125 and gamma = 256 is : 0.66\n",
      "Mean Classification Accuracy for C = 0.25 and gamma = 0.0625 is : 0.66\n",
      "Mean Classification Accuracy for C = 0.25 and gamma = 0.125 is : 0.66\n",
      "Mean Classification Accuracy for C = 0.25 and gamma = 0.25 is : 0.66\n",
      "Mean Classification Accuracy for C = 0.25 and gamma = 0.5 is : 0.66\n",
      "Mean Classification Accuracy for C = 0.25 and gamma = 1 is : 0.66\n",
      "Mean Classification Accuracy for C = 0.25 and gamma = 2 is : 0.66\n",
      "Mean Classification Accuracy for C = 0.25 and gamma = 4 is : 0.675\n",
      "Mean Classification Accuracy for C = 0.25 and gamma = 8 is : 0.742\n",
      "Mean Classification Accuracy for C = 0.25 and gamma = 16 is : 0.7590000000000001\n",
      "Mean Classification Accuracy for C = 0.25 and gamma = 32 is : 0.748\n",
      "Mean Classification Accuracy for C = 0.25 and gamma = 64 is : 0.721\n",
      "Mean Classification Accuracy for C = 0.25 and gamma = 128 is : 0.694\n",
      "Mean Classification Accuracy for C = 0.25 and gamma = 256 is : 0.66\n",
      "Mean Classification Accuracy for C = 0.5 and gamma = 0.0625 is : 0.66\n",
      "Mean Classification Accuracy for C = 0.5 and gamma = 0.125 is : 0.66\n",
      "Mean Classification Accuracy for C = 0.5 and gamma = 0.25 is : 0.66\n",
      "Mean Classification Accuracy for C = 0.5 and gamma = 0.5 is : 0.66\n",
      "Mean Classification Accuracy for C = 0.5 and gamma = 1 is : 0.661\n",
      "Mean Classification Accuracy for C = 0.5 and gamma = 2 is : 0.75\n",
      "Mean Classification Accuracy for C = 0.5 and gamma = 4 is : 0.825\n",
      "Mean Classification Accuracy for C = 0.5 and gamma = 8 is : 0.8309999999999998\n",
      "Mean Classification Accuracy for C = 0.5 and gamma = 16 is : 0.82\n",
      "Mean Classification Accuracy for C = 0.5 and gamma = 32 is : 0.785\n",
      "Mean Classification Accuracy for C = 0.5 and gamma = 64 is : 0.757\n",
      "Mean Classification Accuracy for C = 0.5 and gamma = 128 is : 0.725\n",
      "Mean Classification Accuracy for C = 0.5 and gamma = 256 is : 0.685\n",
      "Mean Classification Accuracy for C = 1 and gamma = 0.0625 is : 0.66\n",
      "Mean Classification Accuracy for C = 1 and gamma = 0.125 is : 0.66\n",
      "Mean Classification Accuracy for C = 1 and gamma = 0.25 is : 0.66\n",
      "Mean Classification Accuracy for C = 1 and gamma = 0.5 is : 0.675\n",
      "Mean Classification Accuracy for C = 1 and gamma = 1 is : 0.859\n",
      "Mean Classification Accuracy for C = 1 and gamma = 2 is : 0.917\n",
      "Mean Classification Accuracy for C = 1 and gamma = 4 is : 0.914\n",
      "Mean Classification Accuracy for C = 1 and gamma = 8 is : 0.905\n",
      "Mean Classification Accuracy for C = 1 and gamma = 16 is : 0.8780000000000001\n",
      "Mean Classification Accuracy for C = 1 and gamma = 32 is : 0.841\n",
      "Mean Classification Accuracy for C = 1 and gamma = 64 is : 0.8\n",
      "Mean Classification Accuracy for C = 1 and gamma = 128 is : 0.757\n",
      "Mean Classification Accuracy for C = 1 and gamma = 256 is : 0.73\n",
      "Mean Classification Accuracy for C = 2 and gamma = 0.0625 is : 0.66\n",
      "Mean Classification Accuracy for C = 2 and gamma = 0.125 is : 0.66\n",
      "Mean Classification Accuracy for C = 2 and gamma = 0.25 is : 0.704\n",
      "Mean Classification Accuracy for C = 2 and gamma = 0.5 is : 0.914\n",
      "Mean Classification Accuracy for C = 2 and gamma = 1 is : 0.9410000000000001\n",
      "Mean Classification Accuracy for C = 2 and gamma = 2 is : 0.931\n",
      "Mean Classification Accuracy for C = 2 and gamma = 4 is : 0.925\n",
      "Mean Classification Accuracy for C = 2 and gamma = 8 is : 0.9219999999999999\n",
      "Mean Classification Accuracy for C = 2 and gamma = 16 is : 0.9\n",
      "Mean Classification Accuracy for C = 2 and gamma = 32 is : 0.858\n",
      "Mean Classification Accuracy for C = 2 and gamma = 64 is : 0.82\n",
      "Mean Classification Accuracy for C = 2 and gamma = 128 is : 0.7769999999999999\n",
      "Mean Classification Accuracy for C = 2 and gamma = 256 is : 0.737\n",
      "Mean Classification Accuracy for C = 4 and gamma = 0.0625 is : 0.66\n",
      "Mean Classification Accuracy for C = 4 and gamma = 0.125 is : 0.7209999999999999\n",
      "Mean Classification Accuracy for C = 4 and gamma = 0.25 is : 0.9369999999999999\n",
      "Mean Classification Accuracy for C = 4 and gamma = 0.5 is : 0.9490000000000001\n",
      "Mean Classification Accuracy for C = 4 and gamma = 1 is : 0.946\n",
      "Mean Classification Accuracy for C = 4 and gamma = 2 is : 0.9349999999999999\n",
      "Mean Classification Accuracy for C = 4 and gamma = 4 is : 0.9299999999999999\n",
      "Mean Classification Accuracy for C = 4 and gamma = 8 is : 0.9189999999999999\n",
      "Mean Classification Accuracy for C = 4 and gamma = 16 is : 0.8960000000000001\n",
      "Mean Classification Accuracy for C = 4 and gamma = 32 is : 0.8480000000000001\n",
      "Mean Classification Accuracy for C = 4 and gamma = 64 is : 0.8220000000000001\n",
      "Mean Classification Accuracy for C = 4 and gamma = 128 is : 0.7789999999999999\n",
      "Mean Classification Accuracy for C = 4 and gamma = 256 is : 0.738\n",
      "Mean Classification Accuracy for C = 8 and gamma = 0.0625 is : 0.734\n",
      "Mean Classification Accuracy for C = 8 and gamma = 0.125 is : 0.9410000000000001\n",
      "Mean Classification Accuracy for C = 8 and gamma = 0.25 is : 0.9490000000000001\n",
      "Mean Classification Accuracy for C = 8 and gamma = 0.5 is : 0.9469999999999998\n",
      "Mean Classification Accuracy for C = 8 and gamma = 1 is : 0.9470000000000001\n",
      "Mean Classification Accuracy for C = 8 and gamma = 2 is : 0.9399999999999998\n",
      "Mean Classification Accuracy for C = 8 and gamma = 4 is : 0.931\n",
      "Mean Classification Accuracy for C = 8 and gamma = 8 is : 0.9180000000000001\n",
      "Mean Classification Accuracy for C = 8 and gamma = 16 is : 0.89\n",
      "Mean Classification Accuracy for C = 8 and gamma = 32 is : 0.85\n",
      "Mean Classification Accuracy for C = 8 and gamma = 64 is : 0.826\n",
      "Mean Classification Accuracy for C = 8 and gamma = 128 is : 0.7809999999999999\n",
      "Mean Classification Accuracy for C = 8 and gamma = 256 is : 0.738\n",
      "Mean Classification Accuracy for C = 16 and gamma = 0.0625 is : 0.9410000000000001\n",
      "Mean Classification Accuracy for C = 16 and gamma = 0.125 is : 0.954\n",
      "Mean Classification Accuracy for C = 16 and gamma = 0.25 is : 0.953\n",
      "Mean Classification Accuracy for C = 16 and gamma = 0.5 is : 0.9509999999999998\n",
      "Mean Classification Accuracy for C = 16 and gamma = 1 is : 0.9410000000000001\n",
      "Mean Classification Accuracy for C = 16 and gamma = 2 is : 0.9399999999999998\n",
      "Mean Classification Accuracy for C = 16 and gamma = 4 is : 0.9330000000000002\n",
      "Mean Classification Accuracy for C = 16 and gamma = 8 is : 0.913\n",
      "Mean Classification Accuracy for C = 16 and gamma = 16 is : 0.877\n",
      "Mean Classification Accuracy for C = 16 and gamma = 32 is : 0.8530000000000001\n",
      "Mean Classification Accuracy for C = 16 and gamma = 64 is : 0.8240000000000001\n",
      "Mean Classification Accuracy for C = 16 and gamma = 128 is : 0.7809999999999999\n",
      "Mean Classification Accuracy for C = 16 and gamma = 256 is : 0.738\n"
     ]
    },
    {
     "name": "stdout",
     "output_type": "stream",
     "text": [
      "Mean Classification Accuracy for C = 32 and gamma = 0.0625 is : 0.95\n",
      "Mean Classification Accuracy for C = 32 and gamma = 0.125 is : 0.952\n",
      "Mean Classification Accuracy for C = 32 and gamma = 0.25 is : 0.9509999999999998\n",
      "Mean Classification Accuracy for C = 32 and gamma = 0.5 is : 0.9469999999999998\n",
      "Mean Classification Accuracy for C = 32 and gamma = 1 is : 0.95\n",
      "Mean Classification Accuracy for C = 32 and gamma = 2 is : 0.9390000000000001\n",
      "Mean Classification Accuracy for C = 32 and gamma = 4 is : 0.933\n",
      "Mean Classification Accuracy for C = 32 and gamma = 8 is : 0.901\n",
      "Mean Classification Accuracy for C = 32 and gamma = 16 is : 0.873\n",
      "Mean Classification Accuracy for C = 32 and gamma = 32 is : 0.8480000000000001\n",
      "Mean Classification Accuracy for C = 32 and gamma = 64 is : 0.8240000000000001\n",
      "Mean Classification Accuracy for C = 32 and gamma = 128 is : 0.7809999999999999\n",
      "Mean Classification Accuracy for C = 32 and gamma = 256 is : 0.738\n",
      "Mean Classification Accuracy for C = 64 and gamma = 0.0625 is : 0.953\n",
      "Mean Classification Accuracy for C = 64 and gamma = 0.125 is : 0.951\n",
      "Mean Classification Accuracy for C = 64 and gamma = 0.25 is : 0.9499999999999998\n",
      "Mean Classification Accuracy for C = 64 and gamma = 0.5 is : 0.953\n",
      "Mean Classification Accuracy for C = 64 and gamma = 1 is : 0.9490000000000001\n",
      "Mean Classification Accuracy for C = 64 and gamma = 2 is : 0.9410000000000001\n",
      "Mean Classification Accuracy for C = 64 and gamma = 4 is : 0.9289999999999999\n",
      "Mean Classification Accuracy for C = 64 and gamma = 8 is : 0.901\n",
      "Mean Classification Accuracy for C = 64 and gamma = 16 is : 0.8710000000000001\n",
      "Mean Classification Accuracy for C = 64 and gamma = 32 is : 0.849\n",
      "Mean Classification Accuracy for C = 64 and gamma = 64 is : 0.8240000000000001\n",
      "Mean Classification Accuracy for C = 64 and gamma = 128 is : 0.7809999999999999\n",
      "Mean Classification Accuracy for C = 64 and gamma = 256 is : 0.738\n",
      "Mean Classification Accuracy for C = 128 and gamma = 0.0625 is : 0.952\n",
      "Mean Classification Accuracy for C = 128 and gamma = 0.125 is : 0.95\n",
      "Mean Classification Accuracy for C = 128 and gamma = 0.25 is : 0.954\n",
      "Mean Classification Accuracy for C = 128 and gamma = 0.5 is : 0.9469999999999998\n",
      "Mean Classification Accuracy for C = 128 and gamma = 1 is : 0.9440000000000002\n",
      "Mean Classification Accuracy for C = 128 and gamma = 2 is : 0.9390000000000001\n",
      "Mean Classification Accuracy for C = 128 and gamma = 4 is : 0.924\n",
      "Mean Classification Accuracy for C = 128 and gamma = 8 is : 0.8939999999999999\n",
      "Mean Classification Accuracy for C = 128 and gamma = 16 is : 0.8629999999999999\n",
      "Mean Classification Accuracy for C = 128 and gamma = 32 is : 0.8470000000000001\n",
      "Mean Classification Accuracy for C = 128 and gamma = 64 is : 0.8240000000000001\n",
      "Mean Classification Accuracy for C = 128 and gamma = 128 is : 0.7809999999999999\n",
      "Mean Classification Accuracy for C = 128 and gamma = 256 is : 0.738\n",
      "Mean Classification Accuracy for C = 256 and gamma = 0.0625 is : 0.95\n",
      "Mean Classification Accuracy for C = 256 and gamma = 0.125 is : 0.952\n",
      "Mean Classification Accuracy for C = 256 and gamma = 0.25 is : 0.9490000000000001\n",
      "Mean Classification Accuracy for C = 256 and gamma = 0.5 is : 0.946\n",
      "Mean Classification Accuracy for C = 256 and gamma = 1 is : 0.943\n",
      "Mean Classification Accuracy for C = 256 and gamma = 2 is : 0.9309999999999998\n",
      "Mean Classification Accuracy for C = 256 and gamma = 4 is : 0.916\n",
      "Mean Classification Accuracy for C = 256 and gamma = 8 is : 0.889\n",
      "Mean Classification Accuracy for C = 256 and gamma = 16 is : 0.861\n",
      "Mean Classification Accuracy for C = 256 and gamma = 32 is : 0.8470000000000001\n",
      "Mean Classification Accuracy for C = 256 and gamma = 64 is : 0.8240000000000001\n",
      "Mean Classification Accuracy for C = 256 and gamma = 128 is : 0.7809999999999999\n",
      "Mean Classification Accuracy for C = 256 and gamma = 256 is : 0.738\n"
     ]
    }
   ],
   "source": [
    "accuracy = []\n",
    "for C, gamma in comb:\n",
    "    temp = []\n",
    "    for i in range(0,1000,200):\n",
    "        XVal = Xtr_instances[i:i+200]\n",
    "        YVal = Ytr_instances[i:i+200]\n",
    "        if i == 0:\n",
    "            XTr = Xtr_instances[i+200:1000]\n",
    "            YTr = Ytr_instances[i+200:1000]\n",
    "        else:\n",
    "            XTr = np.vstack((Xtr_instances[:i],Xtr_instances[i+200:1000]))\n",
    "            YTr = np.concatenate((Ytr_instances[:i],Ytr_instances[i+200:1000]))\n",
    "   \n",
    "        clf = SVC(kernel = 'rbf', C = C, gamma = gamma)\n",
    "        clf.fit(XTr,YTr)\n",
    "        temp.append(clf.score(XVal,YVal))\n",
    "    print('Mean Classification Accuracy for C = {} and gamma = {} is : {}'.format(C, gamma, np.mean(temp)))\n",
    "    accuracy.append(np.mean(temp))"
   ]
  },
  {
   "cell_type": "code",
   "execution_count": 12,
   "id": "ec25d23c",
   "metadata": {},
   "outputs": [],
   "source": [
    "accuracyMatrix = np.array(accuracy).reshape(13,13)"
   ]
  },
  {
   "cell_type": "code",
   "execution_count": 13,
   "id": "d5124aaa",
   "metadata": {},
   "outputs": [
    {
     "name": "stdout",
     "output_type": "stream",
     "text": [
      "[[0.66  0.66  0.66  0.66  0.66  0.66  0.66  0.66  0.66  0.66  0.66  0.66\n",
      "  0.66 ]\n",
      " [0.66  0.66  0.66  0.66  0.66  0.66  0.66  0.66  0.676 0.691 0.68  0.66\n",
      "  0.66 ]\n",
      " [0.66  0.66  0.66  0.66  0.66  0.66  0.675 0.742 0.759 0.748 0.721 0.694\n",
      "  0.66 ]\n",
      " [0.66  0.66  0.66  0.66  0.661 0.75  0.825 0.831 0.82  0.785 0.757 0.725\n",
      "  0.685]\n",
      " [0.66  0.66  0.66  0.675 0.859 0.917 0.914 0.905 0.878 0.841 0.8   0.757\n",
      "  0.73 ]\n",
      " [0.66  0.66  0.704 0.914 0.941 0.931 0.925 0.922 0.9   0.858 0.82  0.777\n",
      "  0.737]\n",
      " [0.66  0.721 0.937 0.949 0.946 0.935 0.93  0.919 0.896 0.848 0.822 0.779\n",
      "  0.738]\n",
      " [0.734 0.941 0.949 0.947 0.947 0.94  0.931 0.918 0.89  0.85  0.826 0.781\n",
      "  0.738]\n",
      " [0.941 0.954 0.953 0.951 0.941 0.94  0.933 0.913 0.877 0.853 0.824 0.781\n",
      "  0.738]\n",
      " [0.95  0.952 0.951 0.947 0.95  0.939 0.933 0.901 0.873 0.848 0.824 0.781\n",
      "  0.738]\n",
      " [0.953 0.951 0.95  0.953 0.949 0.941 0.929 0.901 0.871 0.849 0.824 0.781\n",
      "  0.738]\n",
      " [0.952 0.95  0.954 0.947 0.944 0.939 0.924 0.894 0.863 0.847 0.824 0.781\n",
      "  0.738]\n",
      " [0.95  0.952 0.949 0.946 0.943 0.931 0.916 0.889 0.861 0.847 0.824 0.781\n",
      "  0.738]]\n"
     ]
    }
   ],
   "source": [
    "print(accuracyMatrix)"
   ]
  },
  {
   "cell_type": "code",
   "execution_count": 14,
   "id": "2697ada9",
   "metadata": {},
   "outputs": [
    {
     "name": "stdout",
     "output_type": "stream",
     "text": [
      "0.954\n"
     ]
    }
   ],
   "source": [
    "print(accuracyMatrix.max())"
   ]
  },
  {
   "cell_type": "code",
   "execution_count": 15,
   "id": "6e58d14f",
   "metadata": {},
   "outputs": [
    {
     "name": "stdout",
     "output_type": "stream",
     "text": [
      "Maximum accuracy is achieved at matrix location:  (8, 1)\n"
     ]
    }
   ],
   "source": [
    "index = np.unravel_index(np.argmax(accuracyMatrix, axis=None), accuracyMatrix.shape)\n",
    "print(\"Maximum accuracy is achieved at matrix location: \", index)"
   ]
  },
  {
   "cell_type": "code",
   "execution_count": 16,
   "id": "13a5264a",
   "metadata": {},
   "outputs": [
    {
     "data": {
      "text/plain": [
       "<matplotlib.image.AxesImage at 0x7f993bb4a5b0>"
      ]
     },
     "execution_count": 16,
     "metadata": {},
     "output_type": "execute_result"
    },
    {
     "data": {
      "image/png": "[encoded data removed]",
      "text/plain": [
       "<Figure size 432x288 with 1 Axes>"
      ]
     },
     "metadata": {
      "needs_background": "light"
     },
     "output_type": "display_data"
    }
   ],
   "source": [
    "plt.imshow(accuracyMatrix)"
   ]
  },
  {
   "cell_type": "markdown",
   "id": "713e1b7b",
   "metadata": {},
   "source": [
    "#### (b) Train SVM using whole data set and best C and gamma values"
   ]
  },
  {
   "cell_type": "code",
   "execution_count": 17,
   "id": "8ab24dff",
   "metadata": {},
   "outputs": [
    {
     "name": "stdout",
     "output_type": "stream",
     "text": [
      "Best parameters according to Kfold are: C = 16 and Gamma = 0.125\n",
      "Classification accuracy using RBF kernel SVM with best parameters is:  0.9370629370629371\n"
     ]
    }
   ],
   "source": [
    "# Generate best C and best gamma values obtained from Kfold\n",
    "bestC = C_values[index[0]]\n",
    "bestGamma = gamma_values[index[1]]\n",
    "print(\"Best parameters according to Kfold are: C = {} and Gamma = {}\".format(bestC, bestGamma))\n",
    "\n",
    "# Train SVM model using best parameters and whole data set\n",
    "model = SVC(kernel='rbf', C = bestC , gamma = bestGamma)\n",
    "model.fit(Xtr,Ytr)\n",
    "accuracy = model.score(Xts,Yts)\n",
    "print('Classification accuracy using RBF kernel SVM with best parameters is: ',accuracy)"
   ]
  },
  {
   "cell_type": "code",
   "execution_count": null,
   "id": "6d2b9f30",
   "metadata": {},
   "outputs": [],
   "source": []
  }
 ],
 "metadata": {
  "kernelspec": {
   "display_name": "Python 3 (ipykernel)",
   "language": "python",
   "name": "python3"
  },
  "language_info": {
   "codemirror_mode": {
    "name": "ipython",
    "version": 3
   },
   "file_extension": ".py",
   "mimetype": "text/x-python",
   "name": "python",
   "nbconvert_exporter": "python",
   "pygments_lexer": "ipython3",
   "version": "3.9.12"
  }
 },
 "nbformat": 4,
 "nbformat_minor": 5
}
